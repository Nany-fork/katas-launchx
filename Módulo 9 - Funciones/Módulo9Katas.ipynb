{
 "cells": [
  {
   "cell_type": "markdown",
   "metadata": {},
   "source": [
    "### Ejercicio: Uso de funciones en Python"
   ]
  },
  {
   "cell_type": "markdown",
   "metadata": {},
   "source": [
    "Los argumentos requeridos en las funciones se utilizan cuando las funciones necesitan que esos argumentos funcionen correctamente. En este ejercicio, construirás un informe de combustible que requiere información de varias ubicaciones de combustible en todo el cohete."
   ]
  },
  {
   "cell_type": "code",
   "execution_count": 3,
   "metadata": {},
   "outputs": [],
   "source": [
    "def combustible (t_superior, t_inferior , t_principal):\n",
    "    res = (t_superior + t_inferior + t_principal) / 3\n",
    "    return f\"\"\"\n",
    "    Resultado total : {res} %\n",
    "    Tanque superior de la nave : {t_superior} %,\n",
    "    Tanque inferior de la nave : {t_inferior} %,\n",
    "    Tanque principal de la nave : {t_principal} % \"\"\""
   ]
  },
  {
   "cell_type": "markdown",
   "metadata": {},
   "source": [
    "Ahora que hemos definido la función de informes, vamos a comprobarlo. Para esta misión, los tanques no están llenos:"
   ]
  },
  {
   "cell_type": "code",
   "execution_count": null,
   "metadata": {},
   "outputs": [],
   "source": [
    "def combustible (t_superior, t_inferior , t_principal):\n",
    "    res = (t_superior + t_inferior + t_principal) / 3\n",
    "    return f\"\"\"\n",
    "    Resultado total : {res} %\n",
    "    Tanque superior de la nave : {t_superior} %,\n",
    "    Tanque inferior de la nave : {t_inferior} %,\n",
    "    Tanque principal de la nave : {t_principal} % \"\"\"\n",
    "print(combustible(80, 70, 85))"
   ]
  },
  {
   "cell_type": "markdown",
   "metadata": {},
   "source": [
    "En lugar de simplemente crear el informe, la función también está calculando el promedio. Mejora la legibilidad extrayendo el cálculo promedio de la función en una nueva función para que el promedio se pueda hacer de forma independiente:"
   ]
  },
  {
   "cell_type": "code",
   "execution_count": null,
   "metadata": {},
   "outputs": [],
   "source": [
    "def promedio (t_superior, t_inferior , t_principal):\n",
    "    return (t_superior + t_inferior + t_principal) / 3 "
   ]
  },
  {
   "cell_type": "markdown",
   "metadata": {},
   "source": [
    "Ahora actualiza la función de informes para llamando a la nueva función del promedio:"
   ]
  },
  {
   "cell_type": "code",
   "execution_count": 9,
   "metadata": {},
   "outputs": [
    {
     "name": "stdout",
     "output_type": "stream",
     "text": [
      "\n",
      "    Resultado total : 25.0 %\n",
      "    Tanque superior de la nave : 10 %,\n",
      "    Tanque inferior de la nave : 50 %,\n",
      "    Tanque principal de la nave : 15 % \n"
     ]
    }
   ],
   "source": [
    "def promedio (valores):\n",
    "    total = sum(valores)\n",
    "    numero_de_atr = len(valores)\n",
    "    return total / numero_de_atr\n",
    "   \n",
    "\n",
    "def combustible (t_superior, t_inferior , t_principal):\n",
    "    return f\"\"\"\n",
    "    Resultado total : {promedio([t_superior, t_inferior , t_principal])} %\n",
    "    Tanque superior de la nave : {t_superior} %,\n",
    "    Tanque inferior de la nave : {t_inferior} %,\n",
    "    Tanque principal de la nave : {t_principal} % \"\"\"\n",
    "print(combustible(10, 50, 15))"
   ]
  },
  {
   "cell_type": "markdown",
   "metadata": {},
   "source": [
    "### Ejercicio 2: Trabajo con argumentos de palabra clave"
   ]
  },
  {
   "cell_type": "markdown",
   "metadata": {},
   "source": [
    "En este ejercicio, construirás un informe de cohete que requiere varias piezas de información, como el tiempo hasta el destino, el combustible a la izquierda y el nombre del destino. Comienza por crear una función que creará un informe preciso de la misión:"
   ]
  },
  {
   "cell_type": "code",
   "execution_count": 12,
   "metadata": {},
   "outputs": [],
   "source": [
    "def reporte_viaje(tiempo_aprox,tiempo,destino,combustible_p, combustible_ext):\n",
    "    return f\"\"\" Bitacora de viaje\n",
    "    Destino : {destino} , hora de llegada {tiempo_aprox} vs tiempo actual {tiempo}\n",
    "    nivel de tanques:\n",
    "    principal:{combustible_p}\n",
    "    externo: {combustible_ext}\n",
    "     \"\"\""
   ]
  },
  {
   "cell_type": "markdown",
   "metadata": {},
   "source": [
    "La función es problemática porque no se puede adaptar para minutos adicionales o tanques adicionales de combustible. Hazlo más flexible permitiendo cualquier número de pasos basados en el tiempo y cualquier número de tanques. En lugar de usar *args y **kwargs, aprovecha el hecho de que puedes usar cualquier nombre que desees. Asegurate que la función sea más legible mediante el uso de nombres de variables que están asociados con las entradas, como *minutes y **fuel_reservoirs:"
   ]
  },
  {
   "cell_type": "code",
   "execution_count": 17,
   "metadata": {},
   "outputs": [
    {
     "name": "stdout",
     "output_type": "stream",
     "text": [
      " Bitacora de viaje\n",
      "    Destino : Moon , horas viajado 30\n",
      "    nivel de tanque: 500000\n",
      "     \n"
     ]
    }
   ],
   "source": [
    "def reporte_viaje(destino,*tiempo,**combustible):\n",
    "    return f\"\"\" Bitacora de viaje\n",
    "    Destino : {destino} , horas viajado {sum(tiempo)}\n",
    "    nivel de tanque: {sum(combustible.values())}\n",
    "     \"\"\"\n",
    "print(reporte_viaje(\"Moon\", 10, 10, 10, main=300000, external=200000))"
   ]
  },
  {
   "cell_type": "markdown",
   "metadata": {},
   "source": [
    "Debido a que el combustible que queda en los tanques es específico de cada tanque, actualiza la función para usar el nombre de cada tanque en el informe:"
   ]
  },
  {
   "cell_type": "code",
   "execution_count": 21,
   "metadata": {},
   "outputs": [
    {
     "name": "stdout",
     "output_type": "stream",
     "text": [
      " Bitacora de viaje\n",
      "    Destino : Moon , horas viajado 74\n",
      "    nivel de tanque: 250\n",
      "     principal Tanques 100 a galones \n",
      "externo Tanques 150 a galones \n",
      "\n"
     ]
    }
   ],
   "source": [
    "def reporte_viaje(destino,*tiempo,**combustible):\n",
    "    report = f\"\"\" Bitacora de viaje\n",
    "    Destino : {destino} , horas viajado {sum(tiempo)}\n",
    "    nivel de tanque: {sum(combustible.values())}\n",
    "     \"\"\"\n",
    "    for tank_name, gallons in combustible.items():\n",
    "            report += f\"{tank_name} Tanques {gallons} a galones \\n\"\n",
    "    return report\n",
    "print(reporte_viaje(\"Moon\", 8, 11, 55, principal=100, externo=150))"
   ]
  }
 ],
 "metadata": {
  "interpreter": {
   "hash": "8333ca89959003e37093cba9dba9a8331e5b8ee09a5c08b2751f606e76747cca"
  },
  "kernelspec": {
   "display_name": "Python 3.9.5 64-bit",
   "language": "python",
   "name": "python3"
  },
  "language_info": {
   "codemirror_mode": {
    "name": "ipython",
    "version": 3
   },
   "file_extension": ".py",
   "mimetype": "text/x-python",
   "name": "python",
   "nbconvert_exporter": "python",
   "pygments_lexer": "ipython3",
   "version": "3.9.5"
  },
  "orig_nbformat": 4
 },
 "nbformat": 4,
 "nbformat_minor": 2
}
